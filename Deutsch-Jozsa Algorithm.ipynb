{
 "cells": [
  {
   "cell_type": "code",
   "execution_count": 38,
   "metadata": {
    "scrolled": true
   },
   "outputs": [
    {
     "name": "stdout",
     "output_type": "stream",
     "text": [
      "{'000': 1024}\n"
     ]
    }
   ],
   "source": [
    "import sys\n",
    "sys.path.append(\"C:/Users/Chanukya Badri/qiskit-sdk-py\")\n",
    "from qiskit import QuantumProgram\n",
    "import Qconfig\n",
    "'''\n",
    "This program is able to tell if some arbitrary function F, is either a constant function or\n",
    "if it's a balanced function. This shows that black box problems like this can efficiently be\n",
    "solved by a quantum computer. The complexity for this algorithm on a classical computer would\n",
    "be 2^(n-1)+1, whereas in a quantum computer it would be 1. \n",
    "'''\n",
    "#Initialization Of Two N-bit Quantum and Classical Registers\n",
    "quantumProgram = QuantumProgram()\n",
    "n = 3\n",
    "quantumReg = quantumProgram.create_quantum_register('quamtumReg', n)\n",
    "classicalReg = quantumProgram.create_classical_register('classicalReg', n)\n",
    "\n",
    "#Create Quantum Circuit\n",
    "quantumCircuit = quantumProgram.create_circuit('quantumCircuit', [quantumReg], [classicalReg])\n",
    "\n",
    "'''\n",
    "Now, we apply a Hatimard gate to every qbit. This gate maps X->Z and Z->X putting our qbits\n",
    "into super positions. Because of this, all plausible states are equally likely to happen.\n",
    "'''\n",
    "for loop in range(n):\n",
    "    quantumCircuit.h(quantumReg[loop])\n",
    "\n",
    "'''\n",
    "Now, we apply something called an \"oracle\". This oracle takes in an n digit binary string\n",
    "and outputs a 0 or 1. If the function F is constant, the output would only be 0. If it's\n",
    "balanced, the output would be something other than 0. I'm siplying using a xor gate and\n",
    "the oracle is balanced such that f(x)=x0 xor x1x2\n",
    "'''\n",
    "quantumCircuit.z(quantumReg[0])\n",
    "quantumCircuit.cz(quantumReg[1], quantumReg[2])\n",
    "for loop in range(n):\n",
    "    quantumCircuit.h(quantumReg[loop])\n",
    "\n",
    "'''\n",
    "We now observe and measure the qbits\n",
    "'''\n",
    "quantumCircuit.measure(quantumReg[0],classicalReg[0])\n",
    "quantumCircuit.measure(quantumReg[1],classicalReg[1])\n",
    "quantumCircuit.measure(quantumReg[2],classicalReg[2])\n",
    "\n",
    "#END\n",
    "device = 'ibmqx_qasm_simulator'\n",
    "circuit = [\"quantumCircuit\"]\n",
    "quantumObj = quantumProgram.compile(circuits, \"local_qasm_simulator\")\n",
    "\n",
    "result = quantumProgram.run(quantumObj, wait=2,timeout=240)\n",
    "print(result.get_counts('quantumCircuit'))"
   ]
  },
  {
   "cell_type": "code",
   "execution_count": null,
   "metadata": {
    "collapsed": true
   },
   "outputs": [],
   "source": []
  }
 ],
 "metadata": {
  "kernelspec": {
   "display_name": "Python 3",
   "language": "python",
   "name": "python3"
  },
  "language_info": {
   "codemirror_mode": {
    "name": "ipython",
    "version": 3
   },
   "file_extension": ".py",
   "mimetype": "text/x-python",
   "name": "python",
   "nbconvert_exporter": "python",
   "pygments_lexer": "ipython3",
   "version": "3.6.1"
  }
 },
 "nbformat": 4,
 "nbformat_minor": 2
}
